{
  "nbformat": 4,
  "nbformat_minor": 0,
  "metadata": {
    "colab": {
      "provenance": []
    },
    "kernelspec": {
      "name": "python3",
      "display_name": "Python 3"
    },
    "language_info": {
      "name": "python"
    }
  },
  "cells": [
    {
      "cell_type": "markdown",
      "source": [
        "# Proyecto final de imágenes\n",
        "## EL5206-2 Laboratorio de inteligencia computacional y robótica\n",
        "### **Integrantes:**\n",
        "### Benjamín Castro\n",
        "### Melanie Peña\n",
        "### **Auxiliar:**\n",
        "### Jorge Zambrano\n",
        "### **Profesor:**\n",
        "### Carlos Navarro\n",
        "\n"
      ],
      "metadata": {
        "id": "f5fGLjbLi1ld"
      }
    },
    {
      "cell_type": "markdown",
      "source": [
        "#### Imports de las librerías y archivos"
      ],
      "metadata": {
        "id": "eCxlRkGZhHcP"
      }
    },
    {
      "cell_type": "code",
      "execution_count": null,
      "metadata": {
        "id": "VOEQWTm8grTC"
      },
      "outputs": [],
      "source": [
        "import numpy as np\n",
        "import matplotlib.pyplot as plt\n",
        "import cv2\n",
        "import skimage\n",
        "import skimage.feature as feature\n",
        "import tensorflow\n",
        "import pandas as pd\n",
        "from pathlib import Path\n",
        "\n",
        "# Se usa el modelo pre-entrenado VGG-16\n",
        "from tensorflow.keras.applications.vgg16 import VGG16\n",
        "from tensorflow.keras.applications.vgg16 import preprocess_input\n",
        "from tensorflow.keras.preprocessing import image\n",
        "\n",
        "# Arregla el error de la función imshow (en caso que sea necesaria)\n",
        "from google.colab.patches import cv2_imshow"
      ]
    },
    {
      "cell_type": "code",
      "source": [
        "# JPG1\n",
        "if not Path(\"jpg1.tar.gz\").is_file():\n",
        "  !wget \"ftp://ftp.inrialpes.fr/pub/lear/douze/data/jpg1.tar.gz\""
      ],
      "metadata": {
        "id": "ws3xnxOunQLg",
        "colab": {
          "base_uri": "https://localhost:8080/"
        },
        "outputId": "5515dad7-66f7-4a12-9d98-7cbd5bcd38e8"
      },
      "execution_count": null,
      "outputs": [
        {
          "output_type": "stream",
          "name": "stdout",
          "text": [
            "--2022-11-21 15:05:10--  ftp://ftp.inrialpes.fr/pub/lear/douze/data/jpg1.tar.gz\n",
            "           => ‘jpg1.tar.gz’\n",
            "Resolving ftp.inrialpes.fr (ftp.inrialpes.fr)... 194.199.18.221\n",
            "Connecting to ftp.inrialpes.fr (ftp.inrialpes.fr)|194.199.18.221|:21... connected.\n",
            "Logging in as anonymous ... Logged in!\n",
            "==> SYST ... done.    ==> PWD ... done.\n",
            "==> TYPE I ... done.  ==> CWD (1) /pub/lear/douze/data ... done.\n",
            "==> SIZE jpg1.tar.gz ... 1141827194\n",
            "==> PASV ... done.    ==> RETR jpg1.tar.gz ... done.\n",
            "Length: 1141827194 (1.1G) (unauthoritative)\n",
            "\n",
            "jpg1.tar.gz         100%[===================>]   1.06G  3.18MB/s    in 2m 25s  \n",
            "\n",
            "2022-11-21 15:07:36 (7.52 MB/s) - ‘jpg1.tar.gz’ saved [1141827194]\n",
            "\n"
          ]
        }
      ]
    },
    {
      "cell_type": "code",
      "source": [
        "# JPG2\n",
        "if not Path(\"jpg2.tar.gz\").is_file():\n",
        "  !wget \"ftp://ftp.inrialpes.fr/pub/lear/douze/data/jpg2.tar.gz\""
      ],
      "metadata": {
        "id": "bqoufItjrFp3",
        "colab": {
          "base_uri": "https://localhost:8080/"
        },
        "outputId": "d29544cb-e184-471d-d1b8-63423c1745f7"
      },
      "execution_count": null,
      "outputs": [
        {
          "output_type": "stream",
          "name": "stdout",
          "text": [
            "--2022-11-21 15:07:39--  ftp://ftp.inrialpes.fr/pub/lear/douze/data/jpg2.tar.gz\n",
            "           => ‘jpg2.tar.gz’\n",
            "Resolving ftp.inrialpes.fr (ftp.inrialpes.fr)... 194.199.18.221\n",
            "Connecting to ftp.inrialpes.fr (ftp.inrialpes.fr)|194.199.18.221|:21... connected.\n",
            "Logging in as anonymous ... Logged in!\n",
            "==> SYST ... done.    ==> PWD ... done.\n",
            "==> TYPE I ... done.  ==> CWD (1) /pub/lear/douze/data ... done.\n",
            "==> SIZE jpg2.tar.gz ... 1701364177\n",
            "==> PASV ... done.    ==> RETR jpg2.tar.gz ... done.\n",
            "Length: 1701364177 (1.6G) (unauthoritative)\n",
            "\n",
            "jpg2.tar.gz         100%[===================>]   1.58G  7.49MB/s    in 4m 34s  \n",
            "\n",
            "2022-11-21 15:12:15 (5.92 MB/s) - ‘jpg2.tar.gz’ saved [1701364177]\n",
            "\n"
          ]
        }
      ]
    },
    {
      "cell_type": "code",
      "source": [
        "# Extrae los archivos tar.gz\n",
        "!tar -xf jpg1.tar.gz\n",
        "!tar -xf jpg2.tar.gz "
      ],
      "metadata": {
        "id": "YugXrZA7s8Ai"
      },
      "execution_count": null,
      "outputs": []
    },
    {
      "cell_type": "markdown",
      "source": [
        "### 1. *Feature Extraction*"
      ],
      "metadata": {
        "id": "RbvpMGDwv9sN"
      }
    },
    {
      "cell_type": "markdown",
      "source": [
        "#### CNN"
      ],
      "metadata": {
        "id": "Qyj1uFvNzUmE"
      }
    },
    {
      "cell_type": "code",
      "source": [
        "# Extracción con VGG-16\n",
        "model = VGG16(weights='imagenet',include_top=False)\n",
        "\n",
        "def feat_cnn(net,img):\n",
        "  \"\"\" Toma el modelo con el cual predecir y la ID la imagen en string,\n",
        "  devuelve el vector de características \"\"\"\n",
        "  assert type(img) == str,'Entregue el nombre de la consulta en string'\n",
        "  path = './jpg/'+img+'.jpg' # Ruta de acceso de la base de datos\n",
        "  img_loaded = image.load_img(path, target_size = (224,224))\n",
        "  x = image.img_to_array(img_loaded)\n",
        "  x = np.expand_dims(x,axis=0)\n",
        "  x = preprocess_input(x)\n",
        "  feat = net.predict(x)\n",
        "  return feat"
      ],
      "metadata": {
        "id": "yt8KbsACt10c",
        "colab": {
          "base_uri": "https://localhost:8080/"
        },
        "outputId": "c28f1fb2-5a77-4c16-9e3d-bbe290a10626"
      },
      "execution_count": null,
      "outputs": [
        {
          "output_type": "stream",
          "name": "stdout",
          "text": [
            "Downloading data from https://storage.googleapis.com/tensorflow/keras-applications/vgg16/vgg16_weights_tf_dim_ordering_tf_kernels_notop.h5\n",
            "58889256/58889256 [==============================] - 0s 0us/step\n"
          ]
        }
      ]
    },
    {
      "cell_type": "markdown",
      "source": [
        "#### LBP "
      ],
      "metadata": {
        "id": "_jhDs9sB1W_4"
      }
    },
    {
      "cell_type": "code",
      "source": [
        "def feat_lbp(img):\n",
        "  \"\"\" Toma la ID de imagen en string, devuelve el vector de características\"\"\"\n",
        "  assert type(img) == str,'Entregue el nombre de la consulta en string'\n",
        "  path = './jpg/'+img+'.jpg' # Ruta de acceso de la base de datos\n",
        "  img_loaded = image.load_img(path, color_mode = \"grayscale\", target_size = (224,224))\n",
        "  # Cantidad de píxeles de radio a considerar\n",
        "  r = 1\n",
        "  p = 8\n",
        "  lbp_img = feature.local_binary_pattern(img_loaded, P = p, R = r)\n",
        "  (hist, _) = np.histogram(lbp_img.ravel(), bins = np.arange(0, 84), range = (0,255))\n",
        "\n",
        "  # Normalización\n",
        "  hist = hist.astype(\"float\")\n",
        "  hist /= (hist.sum() + 1e-6)\n",
        "  \n",
        "  return hist\n"
      ],
      "metadata": {
        "id": "C07PNR_t1cC2"
      },
      "execution_count": null,
      "outputs": []
    },
    {
      "cell_type": "code",
      "source": [
        "def feat_extract(img,ext):\n",
        "  \"\"\" Toma dos strings: nombre de la imagen y tipo de extracción,\n",
        "  se puede escoger clásico o usando CNN\"\"\"\n",
        "  assert type(img) == str,'Entregue el nombre de la consulta en string'\n",
        "  assert ext == 'classic' or ext == 'cnn','Puede escoger solo cnn o classic'\n",
        "  if ext == 'classic':\n",
        "    return feat_lbp(img)\n",
        "  if ext == 'cnn':\n",
        "    return feat_cnn(model,img)"
      ],
      "metadata": {
        "id": "dZt83E1sBsfY"
      },
      "execution_count": null,
      "outputs": []
    },
    {
      "cell_type": "markdown",
      "source": [
        "### 2. Medida de similitud"
      ],
      "metadata": {
        "id": "_aCRty509q8n"
      }
    },
    {
      "cell_type": "code",
      "source": [
        "def cos_dist(x1,x2):\n",
        "  \"\"\" Toma la distancia entre 2 vectores \"\"\"\n",
        "  norm1 = np.linalg.norm(x1)\n",
        "  norm2 = np.linalg.norm(x2)\n",
        "  if norm1 == 0.0 or norm2 == 0.0:\n",
        "    return 0.0\n",
        "  else:\n",
        "    num = np.sum(x1*x2)\n",
        "    den = np.sqrt(norm1)*np.sqrt(norm2)\n",
        "    return num/den"
      ],
      "metadata": {
        "id": "HBq06WMe9pHw"
      },
      "execution_count": null,
      "outputs": []
    },
    {
      "cell_type": "markdown",
      "source": [
        "#### Guardar las características de cada imagen de la base de datos "
      ],
      "metadata": {
        "id": "WoSd2Kq2nqGB"
      }
    },
    {
      "cell_type": "markdown",
      "source": [
        "##### Imágenes de consulta"
      ],
      "metadata": {
        "id": "3Cdfpn1dDMgl"
      }
    },
    {
      "cell_type": "code",
      "source": [
        "def numtostr(num,dig):\n",
        "  ''' Función que pasa de un entero a string dependiendo de \n",
        "  si se trata de ID (2 dig.) oclase (3 dig.) '''\n",
        "  assert type(num) is int,'Ingrese un valor entero'\n",
        "  # Func. auxiliar que retorna el valor entero con cierta ctdad de ceros\n",
        "  def entero(num,nozeros=0):\n",
        "    return nozeros*'0' + str(num)\n",
        "  num = abs(num)\n",
        "  if dig == 'ID':\n",
        "    if num in range(0,10):\n",
        "      return entero(num,1)\n",
        "    else:\n",
        "      return entero(num)\n",
        "  if dig == 'class':\n",
        "    if num in range(0,10):\n",
        "      return entero(num,2)\n",
        "    if num in range(10,100):\n",
        "      return entero(num,1)\n",
        "    else:\n",
        "      return entero(num)\n"
      ],
      "metadata": {
        "id": "k9LyAkROnpct"
      },
      "execution_count": null,
      "outputs": []
    },
    {
      "cell_type": "code",
      "source": [
        "# Lista con nombres de imágenes de consulta:\n",
        "path_query = ['1'+numtostr(n,'class')+'00' for n in range(0,500)]"
      ],
      "metadata": {
        "id": "CBG6W5BN9RvY"
      },
      "execution_count": null,
      "outputs": []
    },
    {
      "cell_type": "markdown",
      "source": [
        "##### Imágenes base de datos"
      ],
      "metadata": {
        "id": "LWUf6iL1DQN9"
      }
    },
    {
      "cell_type": "code",
      "source": [
        "# Almacena los nombres de las imagenes de las bases de datos\n",
        "path_db = []\n",
        "for i in range(0,500):\n",
        "  for j in range(1,11):\n",
        "    # Revisa si existe el archivo con ese nombre\n",
        "    path = '1'+numtostr(i,'class')+numtostr(j,'ID')\n",
        "    if Path(\"./jpg/\"+path+'.jpg').is_file():\n",
        "      path_db.append(path) # Lo guarda"
      ],
      "metadata": {
        "id": "yZDHZfpmDXgL"
      },
      "execution_count": null,
      "outputs": []
    },
    {
      "cell_type": "markdown",
      "source": [
        "### SI TIENE LOS ARCHIVOS .npy, NO EJECUTAR "
      ],
      "metadata": {
        "id": "KQ1oWMyzwPxj"
      }
    },
    {
      "cell_type": "code",
      "source": [
        "# Vectores característicos de imágenes de consulta \n",
        "# se almacenan en la lista\n",
        "query_cnn = []\n",
        "query_classic = []\n",
        "for i in range(0,500):\n",
        "  query_cnn.append(feat_extract(path_query[i],'cnn'))\n",
        "  query_classic.append(feat_extract(path_query[i],'classic'))"
      ],
      "metadata": {
        "id": "38sczNCP1mKN"
      },
      "execution_count": null,
      "outputs": []
    },
    {
      "cell_type": "code",
      "source": [
        "# La información se guarda en diccionarios para consultar\n",
        "query_cnn_DB = dict(zip(path_query,query_cnn))\n",
        "query_classic_DB = dict(zip(path_query,query_classic)) "
      ],
      "metadata": {
        "id": "vNkQzalSA0W0"
      },
      "execution_count": null,
      "outputs": []
    },
    {
      "cell_type": "code",
      "source": [
        "# Guarda en archivos npy los vectores característicos\n",
        "np.save('q_cnn.npy', query_cnn_DB)\n",
        "np.save('q_classic.npy', query_classic_DB)"
      ],
      "metadata": {
        "id": "lx9byI8gB-ev"
      },
      "execution_count": null,
      "outputs": []
    },
    {
      "cell_type": "code",
      "source": [
        "db_cnn = []\n",
        "db_classic = []\n",
        "for path in path_db:\n",
        "  db_cnn.append(feat_extract(path,'cnn'))\n",
        "  db_classic.append(feat_extract(path,'classic'))"
      ],
      "metadata": {
        "id": "djUP1mhfOaif"
      },
      "execution_count": null,
      "outputs": []
    },
    {
      "cell_type": "code",
      "source": [
        "# La información se guarda en diccionarios para consultar\n",
        "db_cnn_dict = dict(zip(path_db,db_cnn))\n",
        "db_classic_dict = dict(zip(path_db,db_classic)) "
      ],
      "metadata": {
        "id": "aTQLn6HQT92E"
      },
      "execution_count": null,
      "outputs": []
    },
    {
      "cell_type": "code",
      "source": [
        "# Guarda en archivos npy los vectores característicos\n",
        "np.save('db_cnn.npy', db_cnn_dict)\n",
        "np.save('db_classic.npy', db_classic_dict)"
      ],
      "metadata": {
        "id": "hwtgNTSCUTMn"
      },
      "execution_count": null,
      "outputs": []
    },
    {
      "cell_type": "markdown",
      "source": [
        "### 3. Ordenar resultados por relevancia"
      ],
      "metadata": {
        "id": "Sw3J0h7QGwl9"
      }
    },
    {
      "cell_type": "markdown",
      "source": [
        "#### Descarga de vectores característicos"
      ],
      "metadata": {
        "id": "7Tjo4wldHoj7"
      }
    },
    {
      "cell_type": "code",
      "source": [
        "if not Path(\"./db_classic.npy\").is_file():\n",
        "  !wget https://drive.google.com/file/d/1IbscfADU17tjumA8bxuagdSOLGR8pWOo/view?usp=share_link"
      ],
      "metadata": {
        "id": "ci6wJ9VGGZdB"
      },
      "execution_count": null,
      "outputs": []
    },
    {
      "cell_type": "code",
      "source": [
        "if not Path(\"./q_classic.npy\").is_file():\n",
        "  !wget https://drive.google.com/file/d/10wQFeba8DlbhRcYS8wCI1kcBMGt234ni/view?usp=share_link"
      ],
      "metadata": {
        "id": "f8HbC8RjG5Uf"
      },
      "execution_count": null,
      "outputs": []
    },
    {
      "cell_type": "code",
      "source": [
        "if not Path(\"./db_cnn.npy\").is_file():\n",
        "  !wget https://drive.google.com/file/d/1D8YOAXLf2kcgOCfR07ttG0UFhsoqqzuo/view?usp=share_link"
      ],
      "metadata": {
        "id": "NSnyIuShHYUN"
      },
      "execution_count": null,
      "outputs": []
    },
    {
      "cell_type": "code",
      "source": [
        "if not Path(\"./q_cnn.npy\").is_file():\n",
        "  !wget https://drive.google.com/file/d/1Zel7g9B50ncRBFOZznYG9XiQM9jB0dbA/view?usp=share_link"
      ],
      "metadata": {
        "id": "JVQ0W1q9HQF8"
      },
      "execution_count": null,
      "outputs": []
    },
    {
      "cell_type": "markdown",
      "source": [
        "#### Carga de diccionarios"
      ],
      "metadata": {
        "id": "9x44IsMNGcpB"
      }
    },
    {
      "cell_type": "code",
      "source": [
        "query_cnn_DB = np.load('q_cnn.npy',allow_pickle = True, )\n",
        "query_classic_DB = np.load('q_classic.npy',allow_pickle = True)"
      ],
      "metadata": {
        "id": "X-uPQ_dOXWss"
      },
      "execution_count": null,
      "outputs": []
    },
    {
      "cell_type": "code",
      "source": [
        "db_cnn_dict = np.load('db_cnn.npy',allow_pickle = True)\n",
        "db_classic_dict = np.load('db_classic.npy',allow_pickle = True)"
      ],
      "metadata": {
        "id": "hvKsjk9zVpXN"
      },
      "execution_count": null,
      "outputs": []
    },
    {
      "cell_type": "code",
      "source": [
        "def distances(img,mode):\n",
        "  ''' Toma el string de la imagen de consulta y calcula las\n",
        "  distancias con respecto a los features de la base de datos \n",
        "  (diccionario 'data') '''\n",
        "  assert type(img) is str and img in path_query and type(mode) is str,'Ingrese el nombre\\\n",
        "  de una imagen de consulta (string) y un modo válido'\n",
        "  dist = []\n",
        "  if mode == 'cnn':\n",
        "    for path in path_db:\n",
        "      # Calcula la distancia coseno entre los vectores de feature\n",
        "      query = query_cnn_DB.item().get(img)\n",
        "      database = db_cnn_dict.item().get(path) \n",
        "      d = cos_dist(query,database)\n",
        "      dist.append(d)\n",
        "  if mode == 'classic':\n",
        "    for path in path_db:\n",
        "      query = query_classic_DB.item().get(img)\n",
        "      database = db_classic_dict.item().get(path) \n",
        "      d = cos_dist(query,database)\n",
        "      dist.append(d)\n",
        "  # DataFrame que almacena las distancias de los feature\n",
        "  df = pd.DataFrame()\n",
        "  df['Image'] = path_db\n",
        "  df['Distance'] = dist\n",
        "  return df\n"
      ],
      "metadata": {
        "id": "fxcFb7JChrMI"
      },
      "execution_count": null,
      "outputs": []
    },
    {
      "cell_type": "code",
      "source": [
        "distances('100100','cnn')"
      ],
      "metadata": {
        "colab": {
          "base_uri": "https://localhost:8080/",
          "height": 424
        },
        "id": "pCExlfU2Fxf8",
        "outputId": "c5d6c5dc-834d-4572-b114-13464779c960"
      },
      "execution_count": null,
      "outputs": [
        {
          "output_type": "execute_result",
          "data": {
            "text/plain": [
              "      Image    Distance\n",
              "0    100001  157.028625\n",
              "1    100002  128.127182\n",
              "2    100101  737.270874\n",
              "3    100201  116.944366\n",
              "4    100301  130.932205\n",
              "..      ...         ...\n",
              "983  149604   87.199097\n",
              "984  149701   55.161816\n",
              "985  149801   50.848499\n",
              "986  149901   67.037582\n",
              "987  149902   78.221184\n",
              "\n",
              "[988 rows x 2 columns]"
            ],
            "text/html": [
              "\n",
              "  <div id=\"df-00b1c1e3-33ca-49fd-9c8a-3406e71b0582\">\n",
              "    <div class=\"colab-df-container\">\n",
              "      <div>\n",
              "<style scoped>\n",
              "    .dataframe tbody tr th:only-of-type {\n",
              "        vertical-align: middle;\n",
              "    }\n",
              "\n",
              "    .dataframe tbody tr th {\n",
              "        vertical-align: top;\n",
              "    }\n",
              "\n",
              "    .dataframe thead th {\n",
              "        text-align: right;\n",
              "    }\n",
              "</style>\n",
              "<table border=\"1\" class=\"dataframe\">\n",
              "  <thead>\n",
              "    <tr style=\"text-align: right;\">\n",
              "      <th></th>\n",
              "      <th>Image</th>\n",
              "      <th>Distance</th>\n",
              "    </tr>\n",
              "  </thead>\n",
              "  <tbody>\n",
              "    <tr>\n",
              "      <th>0</th>\n",
              "      <td>100001</td>\n",
              "      <td>157.028625</td>\n",
              "    </tr>\n",
              "    <tr>\n",
              "      <th>1</th>\n",
              "      <td>100002</td>\n",
              "      <td>128.127182</td>\n",
              "    </tr>\n",
              "    <tr>\n",
              "      <th>2</th>\n",
              "      <td>100101</td>\n",
              "      <td>737.270874</td>\n",
              "    </tr>\n",
              "    <tr>\n",
              "      <th>3</th>\n",
              "      <td>100201</td>\n",
              "      <td>116.944366</td>\n",
              "    </tr>\n",
              "    <tr>\n",
              "      <th>4</th>\n",
              "      <td>100301</td>\n",
              "      <td>130.932205</td>\n",
              "    </tr>\n",
              "    <tr>\n",
              "      <th>...</th>\n",
              "      <td>...</td>\n",
              "      <td>...</td>\n",
              "    </tr>\n",
              "    <tr>\n",
              "      <th>983</th>\n",
              "      <td>149604</td>\n",
              "      <td>87.199097</td>\n",
              "    </tr>\n",
              "    <tr>\n",
              "      <th>984</th>\n",
              "      <td>149701</td>\n",
              "      <td>55.161816</td>\n",
              "    </tr>\n",
              "    <tr>\n",
              "      <th>985</th>\n",
              "      <td>149801</td>\n",
              "      <td>50.848499</td>\n",
              "    </tr>\n",
              "    <tr>\n",
              "      <th>986</th>\n",
              "      <td>149901</td>\n",
              "      <td>67.037582</td>\n",
              "    </tr>\n",
              "    <tr>\n",
              "      <th>987</th>\n",
              "      <td>149902</td>\n",
              "      <td>78.221184</td>\n",
              "    </tr>\n",
              "  </tbody>\n",
              "</table>\n",
              "<p>988 rows × 2 columns</p>\n",
              "</div>\n",
              "      <button class=\"colab-df-convert\" onclick=\"convertToInteractive('df-00b1c1e3-33ca-49fd-9c8a-3406e71b0582')\"\n",
              "              title=\"Convert this dataframe to an interactive table.\"\n",
              "              style=\"display:none;\">\n",
              "        \n",
              "  <svg xmlns=\"http://www.w3.org/2000/svg\" height=\"24px\"viewBox=\"0 0 24 24\"\n",
              "       width=\"24px\">\n",
              "    <path d=\"M0 0h24v24H0V0z\" fill=\"none\"/>\n",
              "    <path d=\"M18.56 5.44l.94 2.06.94-2.06 2.06-.94-2.06-.94-.94-2.06-.94 2.06-2.06.94zm-11 1L8.5 8.5l.94-2.06 2.06-.94-2.06-.94L8.5 2.5l-.94 2.06-2.06.94zm10 10l.94 2.06.94-2.06 2.06-.94-2.06-.94-.94-2.06-.94 2.06-2.06.94z\"/><path d=\"M17.41 7.96l-1.37-1.37c-.4-.4-.92-.59-1.43-.59-.52 0-1.04.2-1.43.59L10.3 9.45l-7.72 7.72c-.78.78-.78 2.05 0 2.83L4 21.41c.39.39.9.59 1.41.59.51 0 1.02-.2 1.41-.59l7.78-7.78 2.81-2.81c.8-.78.8-2.07 0-2.86zM5.41 20L4 18.59l7.72-7.72 1.47 1.35L5.41 20z\"/>\n",
              "  </svg>\n",
              "      </button>\n",
              "      \n",
              "  <style>\n",
              "    .colab-df-container {\n",
              "      display:flex;\n",
              "      flex-wrap:wrap;\n",
              "      gap: 12px;\n",
              "    }\n",
              "\n",
              "    .colab-df-convert {\n",
              "      background-color: #E8F0FE;\n",
              "      border: none;\n",
              "      border-radius: 50%;\n",
              "      cursor: pointer;\n",
              "      display: none;\n",
              "      fill: #1967D2;\n",
              "      height: 32px;\n",
              "      padding: 0 0 0 0;\n",
              "      width: 32px;\n",
              "    }\n",
              "\n",
              "    .colab-df-convert:hover {\n",
              "      background-color: #E2EBFA;\n",
              "      box-shadow: 0px 1px 2px rgba(60, 64, 67, 0.3), 0px 1px 3px 1px rgba(60, 64, 67, 0.15);\n",
              "      fill: #174EA6;\n",
              "    }\n",
              "\n",
              "    [theme=dark] .colab-df-convert {\n",
              "      background-color: #3B4455;\n",
              "      fill: #D2E3FC;\n",
              "    }\n",
              "\n",
              "    [theme=dark] .colab-df-convert:hover {\n",
              "      background-color: #434B5C;\n",
              "      box-shadow: 0px 1px 3px 1px rgba(0, 0, 0, 0.15);\n",
              "      filter: drop-shadow(0px 1px 2px rgba(0, 0, 0, 0.3));\n",
              "      fill: #FFFFFF;\n",
              "    }\n",
              "  </style>\n",
              "\n",
              "      <script>\n",
              "        const buttonEl =\n",
              "          document.querySelector('#df-00b1c1e3-33ca-49fd-9c8a-3406e71b0582 button.colab-df-convert');\n",
              "        buttonEl.style.display =\n",
              "          google.colab.kernel.accessAllowed ? 'block' : 'none';\n",
              "\n",
              "        async function convertToInteractive(key) {\n",
              "          const element = document.querySelector('#df-00b1c1e3-33ca-49fd-9c8a-3406e71b0582');\n",
              "          const dataTable =\n",
              "            await google.colab.kernel.invokeFunction('convertToInteractive',\n",
              "                                                     [key], {});\n",
              "          if (!dataTable) return;\n",
              "\n",
              "          const docLinkHtml = 'Like what you see? Visit the ' +\n",
              "            '<a target=\"_blank\" href=https://colab.research.google.com/notebooks/data_table.ipynb>data table notebook</a>'\n",
              "            + ' to learn more about interactive tables.';\n",
              "          element.innerHTML = '';\n",
              "          dataTable['output_type'] = 'display_data';\n",
              "          await google.colab.output.renderOutput(dataTable, element);\n",
              "          const docLink = document.createElement('div');\n",
              "          docLink.innerHTML = docLinkHtml;\n",
              "          element.appendChild(docLink);\n",
              "        }\n",
              "      </script>\n",
              "    </div>\n",
              "  </div>\n",
              "  "
            ]
          },
          "metadata": {},
          "execution_count": 51
        }
      ]
    }
  ]
}