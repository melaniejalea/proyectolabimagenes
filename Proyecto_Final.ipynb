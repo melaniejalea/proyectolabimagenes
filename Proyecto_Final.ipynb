{
  "nbformat": 4,
  "nbformat_minor": 0,
  "metadata": {
    "colab": {
      "provenance": []
    },
    "kernelspec": {
      "name": "python3",
      "display_name": "Python 3"
    },
    "language_info": {
      "name": "python"
    }
  },
  "cells": [
    {
      "cell_type": "markdown",
      "source": [
        "# Proyecto final de imágenes\n",
        "## EL5206-2 Laboratorio de inteligencia computacional y robótica\n",
        "### **Integrantes:**\n",
        "### Benjamín Castro\n",
        "### Melanie Peña\n",
        "### **Auxiliar:**\n",
        "### Jorge Zambrano\n",
        "### **Profesor:**\n",
        "### Carlos Navarro\n",
        "\n"
      ],
      "metadata": {
        "id": "f5fGLjbLi1ld"
      }
    },
    {
      "cell_type": "markdown",
      "source": [
        "#### Imports de las librerías y archivos"
      ],
      "metadata": {
        "id": "eCxlRkGZhHcP"
      }
    },
    {
      "cell_type": "code",
      "execution_count": null,
      "metadata": {
        "id": "VOEQWTm8grTC"
      },
      "outputs": [],
      "source": [
        "import numpy as np\n",
        "import matplotlib.pyplot as plt\n",
        "import cv2\n",
        "import skimage\n",
        "import skimage.feature as feature\n",
        "import tensorflow\n",
        "import pandas as pd\n",
        "from pathlib import Path\n",
        "\n",
        "# Se usa el modelo pre-entrenado VGG-16\n",
        "from tensorflow.keras.applications.vgg16 import VGG16\n",
        "from tensorflow.keras.applications.vgg16 import preprocess_input\n",
        "from tensorflow.keras.preprocessing import image\n",
        "\n",
        "# Arregla el error de la función imshow\n",
        "from google.colab.patches import cv2_imshow"
      ]
    },
    {
      "cell_type": "code",
      "source": [
        "# JPG1\n",
        "if not Path(\"jpg1.tar.gz\").is_file():\n",
        "  !wget \"ftp://ftp.inrialpes.fr/pub/lear/douze/data/jpg1.tar.gz\""
      ],
      "metadata": {
        "colab": {
          "base_uri": "https://localhost:8080/"
        },
        "id": "ws3xnxOunQLg",
        "outputId": "8d2f9004-9694-4c77-89f4-60d1739b75ee"
      },
      "execution_count": null,
      "outputs": [
        {
          "output_type": "stream",
          "name": "stdout",
          "text": [
            "--2022-11-14 19:47:07--  ftp://ftp.inrialpes.fr/pub/lear/douze/data/jpg1.tar.gz\n",
            "           => ‘jpg1.tar.gz’\n",
            "Resolving ftp.inrialpes.fr (ftp.inrialpes.fr)... 194.199.18.221\n",
            "Connecting to ftp.inrialpes.fr (ftp.inrialpes.fr)|194.199.18.221|:21... connected.\n",
            "Logging in as anonymous ... Logged in!\n",
            "==> SYST ... done.    ==> PWD ... done.\n",
            "==> TYPE I ... done.  ==> CWD (1) /pub/lear/douze/data ... done.\n",
            "==> SIZE jpg1.tar.gz ... 1141827194\n",
            "==> PASV ... done.    ==> RETR jpg1.tar.gz ... done.\n",
            "Length: 1141827194 (1.1G) (unauthoritative)\n",
            "\n",
            "jpg1.tar.gz         100%[===================>]   1.06G  3.46MB/s    in 2m 58s  \n",
            "\n",
            "2022-11-14 19:50:07 (6.13 MB/s) - ‘jpg1.tar.gz’ saved [1141827194]\n",
            "\n"
          ]
        }
      ]
    },
    {
      "cell_type": "code",
      "source": [
        "# JPG2\n",
        "if not Path(\"jpg2.tar.gz\").is_file():\n",
        "  !wget \"ftp://ftp.inrialpes.fr/pub/lear/douze/data/jpg2.tar.gz\""
      ],
      "metadata": {
        "colab": {
          "base_uri": "https://localhost:8080/"
        },
        "id": "bqoufItjrFp3",
        "outputId": "97bb1f4b-b43d-458e-d0d8-65626a366229"
      },
      "execution_count": null,
      "outputs": [
        {
          "output_type": "stream",
          "name": "stdout",
          "text": [
            "--2022-11-14 19:50:18--  ftp://ftp.inrialpes.fr/pub/lear/douze/data/jpg2.tar.gz\n",
            "           => ‘jpg2.tar.gz’\n",
            "Resolving ftp.inrialpes.fr (ftp.inrialpes.fr)... 194.199.18.221\n",
            "Connecting to ftp.inrialpes.fr (ftp.inrialpes.fr)|194.199.18.221|:21... connected.\n",
            "Logging in as anonymous ... Logged in!\n",
            "==> SYST ... done.    ==> PWD ... done.\n",
            "==> TYPE I ... done.  ==> CWD (1) /pub/lear/douze/data ... done.\n",
            "==> SIZE jpg2.tar.gz ... 1701364177\n",
            "==> PASV ... done.    ==> RETR jpg2.tar.gz ... done.\n",
            "Length: 1701364177 (1.6G) (unauthoritative)\n",
            "\n",
            "jpg2.tar.gz         100%[===================>]   1.58G  10.8MB/s    in 4m 14s  \n",
            "\n",
            "2022-11-14 19:54:34 (6.38 MB/s) - ‘jpg2.tar.gz’ saved [1701364177]\n",
            "\n"
          ]
        }
      ]
    },
    {
      "cell_type": "code",
      "source": [
        "# Extrae los archivos tar.gz\n",
        "!tar -xf jpg1.tar.gz\n",
        "!tar -xf jpg2.tar.gz "
      ],
      "metadata": {
        "id": "YugXrZA7s8Ai"
      },
      "execution_count": null,
      "outputs": []
    },
    {
      "cell_type": "markdown",
      "source": [
        "### 1. *Feature Extraction*"
      ],
      "metadata": {
        "id": "RbvpMGDwv9sN"
      }
    },
    {
      "cell_type": "markdown",
      "source": [
        "#### CNN"
      ],
      "metadata": {
        "id": "Qyj1uFvNzUmE"
      }
    },
    {
      "cell_type": "code",
      "source": [
        "# Extracción con VGG-16\n",
        "model = VGG16(weights='imagenet',include_top=False)\n",
        "\n",
        "def feat_cnn(net,img):\n",
        "  \"\"\" Toma el modelo con el cual predecir y la ID la imagen en string,\n",
        "  devuelve el vector de características \"\"\"\n",
        "  assert type(img) == str,'Entregue el nombre de la consulta en string'\n",
        "  path = './jpg/'+img+'.jpg' # Ruta de acceso de la base de datos\n",
        "  img_loaded = image.load_img(path, target_size = (224,224))\n",
        "  x = image.img_to_array(img_loaded)\n",
        "  x = np.expand_dims(x,axis=0)\n",
        "  x = preprocess_input(x)\n",
        "  feat = net.predict(x)\n",
        "  return feat"
      ],
      "metadata": {
        "id": "yt8KbsACt10c"
      },
      "execution_count": null,
      "outputs": []
    },
    {
      "cell_type": "markdown",
      "source": [
        "#### LBP "
      ],
      "metadata": {
        "id": "_jhDs9sB1W_4"
      }
    },
    {
      "cell_type": "code",
      "source": [
        "def feat_lbp(img):\n",
        "  \"\"\" Toma la ID de imagen en string, devuelve el vector de características\"\"\"\n",
        "  assert type(img) == str,'Entregue el nombre de la consulta en string'\n",
        "  path = './jpg/'+img+'.jpg' # Ruta de acceso de la base de datos\n",
        "  img_loaded = image.load_img(path, color_mode = \"grayscale\", target_size = (224,224))\n",
        "  # Cantidad de píxeles de radio a considerar\n",
        "  r = 1\n",
        "  p = 8\n",
        "  lbp_img = feature.local_binary_pattern(img_loaded, P = p, R = r)\n",
        "  (hist, _) = np.histogram(lbp_img.ravel(), bins = np.arange(0, 84), range = (0,255))\n",
        "\n",
        "  # Normalización\n",
        "  hist = hist.astype(\"float\")\n",
        "  hist /= (hist.sum() + 1e-6)\n",
        "  \n",
        "  return hist\n"
      ],
      "metadata": {
        "id": "C07PNR_t1cC2"
      },
      "execution_count": null,
      "outputs": []
    },
    {
      "cell_type": "code",
      "source": [
        "def feat_extract(img,ext):\n",
        "  \"\"\" Toma dos strings: nombre de la imagen y tipo de extracción,\n",
        "  se puede escoger clásico o usando CNN\"\"\"\n",
        "  assert type(img) == str,'Entregue el nombre de la consulta en string'\n",
        "  assert ext == 'classic' or ext == 'cnn','Puede escoger solo cnn o classic'\n",
        "  if ext == 'classic':\n",
        "    return feat_lbp(img)\n",
        "  if ext == 'cnn':\n",
        "    return feat_cnn(model,img)"
      ],
      "metadata": {
        "id": "dZt83E1sBsfY"
      },
      "execution_count": null,
      "outputs": []
    },
    {
      "cell_type": "markdown",
      "source": [
        "### 2. Medida de similitud"
      ],
      "metadata": {
        "id": "_aCRty509q8n"
      }
    },
    {
      "cell_type": "code",
      "source": [
        "def cos_dist(x1,x2):\n",
        "  \"\"\" Toma la distancia entre 2 vectores \"\"\"\n",
        "  norm1 = np.linalg.norm(x1)\n",
        "  norm2 = np.linalg.norm(x2)\n",
        "  if norm1 == 0.0 or norm2 == 0.0:\n",
        "    return 0.0\n",
        "  else:\n",
        "    num = np.sum(x1*x2)\n",
        "    den = np.sqrt(norm1)*np.sqrt(norm2)\n",
        "    return num/den"
      ],
      "metadata": {
        "id": "HBq06WMe9pHw"
      },
      "execution_count": null,
      "outputs": []
    },
    {
      "cell_type": "markdown",
      "source": [
        "### 3. Ordenar resultados por relevancia"
      ],
      "metadata": {
        "id": "Sw3J0h7QGwl9"
      }
    },
    {
      "cell_type": "code",
      "source": [],
      "metadata": {
        "id": "fxcFb7JChrMI"
      },
      "execution_count": null,
      "outputs": []
    }
  ]
}